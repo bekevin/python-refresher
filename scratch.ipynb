{
 "cells": [
  {
   "cell_type": "code",
   "execution_count": 16,
   "metadata": {},
   "outputs": [],
   "source": [
    "class Node:\n",
    "  def __init__(self, data):\n",
    "    self.data = data\n",
    "    self.next_element = None"
   ]
  },
  {
   "cell_type": "code",
   "execution_count": 17,
   "metadata": {},
   "outputs": [
    {
     "ename": "KeyboardInterrupt",
     "evalue": "",
     "output_type": "error",
     "traceback": [
      "\u001b[1;31m---------------------------------------------------------------------------\u001b[0m",
      "\u001b[1;31mKeyboardInterrupt\u001b[0m                         Traceback (most recent call last)",
      "\u001b[1;32mc:\\Users\\kevin\\OneDrive\\Documents\\VScode\\Flask\\python-refresher\\scratch.ipynb Cell 2'\u001b[0m in \u001b[0;36m<cell line: 55>\u001b[1;34m()\u001b[0m\n\u001b[0;32m     <a href='vscode-notebook-cell:/c%3A/Users/kevin/OneDrive/Documents/VScode/Flask/python-refresher/scratch.ipynb#ch0000008?line=52'>53</a>\u001b[0m   x\u001b[39m.\u001b[39mremove_duplicates()\n\u001b[0;32m     <a href='vscode-notebook-cell:/c%3A/Users/kevin/OneDrive/Documents/VScode/Flask/python-refresher/scratch.ipynb#ch0000008?line=53'>54</a>\u001b[0m   x\u001b[39m.\u001b[39mprint_list()\n\u001b[1;32m---> <a href='vscode-notebook-cell:/c%3A/Users/kevin/OneDrive/Documents/VScode/Flask/python-refresher/scratch.ipynb#ch0000008?line=54'>55</a>\u001b[0m test(lst)\n",
      "\u001b[1;32mc:\\Users\\kevin\\OneDrive\\Documents\\VScode\\Flask\\python-refresher\\scratch.ipynb Cell 2'\u001b[0m in \u001b[0;36mtest\u001b[1;34m(x)\u001b[0m\n\u001b[0;32m     <a href='vscode-notebook-cell:/c%3A/Users/kevin/OneDrive/Documents/VScode/Flask/python-refresher/scratch.ipynb#ch0000008?line=50'>51</a>\u001b[0m \u001b[39mdef\u001b[39;00m \u001b[39mtest\u001b[39m(x):\n\u001b[0;32m     <a href='vscode-notebook-cell:/c%3A/Users/kevin/OneDrive/Documents/VScode/Flask/python-refresher/scratch.ipynb#ch0000008?line=51'>52</a>\u001b[0m   \u001b[39m# Write your code here\u001b[39;00m\n\u001b[1;32m---> <a href='vscode-notebook-cell:/c%3A/Users/kevin/OneDrive/Documents/VScode/Flask/python-refresher/scratch.ipynb#ch0000008?line=52'>53</a>\u001b[0m   x\u001b[39m.\u001b[39;49mremove_duplicates()\n\u001b[0;32m     <a href='vscode-notebook-cell:/c%3A/Users/kevin/OneDrive/Documents/VScode/Flask/python-refresher/scratch.ipynb#ch0000008?line=53'>54</a>\u001b[0m   x\u001b[39m.\u001b[39mprint_list()\n",
      "\u001b[1;32mc:\\Users\\kevin\\OneDrive\\Documents\\VScode\\Flask\\python-refresher\\scratch.ipynb Cell 2'\u001b[0m in \u001b[0;36mLinkedList.remove_duplicates\u001b[1;34m(self)\u001b[0m\n\u001b[0;32m     <a href='vscode-notebook-cell:/c%3A/Users/kevin/OneDrive/Documents/VScode/Flask/python-refresher/scratch.ipynb#ch0000008?line=9'>10</a>\u001b[0m right \u001b[39m=\u001b[39m \u001b[39mself\u001b[39m\u001b[39m.\u001b[39mget_head()\n\u001b[0;32m     <a href='vscode-notebook-cell:/c%3A/Users/kevin/OneDrive/Documents/VScode/Flask/python-refresher/scratch.ipynb#ch0000008?line=10'>11</a>\u001b[0m hmap \u001b[39m=\u001b[39m {}\n\u001b[1;32m---> <a href='vscode-notebook-cell:/c%3A/Users/kevin/OneDrive/Documents/VScode/Flask/python-refresher/scratch.ipynb#ch0000008?line=12'>13</a>\u001b[0m \u001b[39mwhile\u001b[39;00m right \u001b[39m!=\u001b[39;49m \u001b[39mNone\u001b[39;49;00m:\n\u001b[0;32m     <a href='vscode-notebook-cell:/c%3A/Users/kevin/OneDrive/Documents/VScode/Flask/python-refresher/scratch.ipynb#ch0000008?line=13'>14</a>\u001b[0m     \u001b[39mif\u001b[39;00m right\u001b[39m.\u001b[39mdata \u001b[39min\u001b[39;00m hmap:\n\u001b[0;32m     <a href='vscode-notebook-cell:/c%3A/Users/kevin/OneDrive/Documents/VScode/Flask/python-refresher/scratch.ipynb#ch0000008?line=14'>15</a>\u001b[0m         \u001b[39m#garbage = right\u001b[39;00m\n\u001b[0;32m     <a href='vscode-notebook-cell:/c%3A/Users/kevin/OneDrive/Documents/VScode/Flask/python-refresher/scratch.ipynb#ch0000008?line=15'>16</a>\u001b[0m         right \u001b[39m=\u001b[39m right\u001b[39m.\u001b[39mnext_element\n",
      "\u001b[1;31mKeyboardInterrupt\u001b[0m: "
     ]
    }
   ],
   "source": [
    "class LinkedList:\n",
    "    def __init__(self):\n",
    "        self.head_node = None\n",
    "\n",
    "    def get_head(self):\n",
    "        return self.head_node\n",
    "\n",
    "    def remove_duplicates(self):\n",
    "        left = self.get_head()\n",
    "        right = self.get_head()\n",
    "        hmap = {}\n",
    "\n",
    "        while right != None:\n",
    "            if right.data in hmap:\n",
    "                #garbage = right\n",
    "                right = right.next_element\n",
    "                #garbage.next_element = None\n",
    "                \n",
    "            else:\n",
    "                hmap[right.data] = None\n",
    "                left.next_element = right\n",
    "                left = right\n",
    "                right = right.next_element\n",
    "        return\n",
    "\n",
    "    def insert_at_head(self, dt):\n",
    "        temp_node = Node(dt)\n",
    "        if(self.is_empty()):\n",
    "            self.head_node = temp_node\n",
    "            return self.head_node\n",
    "\n",
    "    def is_empty(self):\n",
    "        if(self.head_node is None):  # Check whether the head is None\n",
    "            return True\n",
    "        else:\n",
    "            return False\n",
    "    def print_list(self):\n",
    "        if(self.is_empty()):\n",
    "            print(\"List is Empty\")\n",
    "            return False\n",
    "        temp = self.head_node\n",
    "        while temp.next_element is not None:\n",
    "            print(temp.data, end=\" -> \")\n",
    "            temp = temp.next_element\n",
    "        print(temp.data, \"-> None\")\n",
    "        return True\n",
    "lst = LinkedList()\n",
    "lst.insert_at_head(1)\n",
    "lst.insert_at_head(1)\n",
    "lst.insert_at_head(2)\n",
    "def test(x):\n",
    "  # Write your code here\n",
    "  x.remove_duplicates()\n",
    "  x.print_list()\n",
    "test(lst)"
   ]
  },
  {
   "cell_type": "code",
   "execution_count": 18,
   "metadata": {},
   "outputs": [
    {
     "ename": "KeyboardInterrupt",
     "evalue": "",
     "output_type": "error",
     "traceback": [
      "\u001b[1;31m---------------------------------------------------------------------------\u001b[0m",
      "\u001b[1;31mKeyboardInterrupt\u001b[0m                         Traceback (most recent call last)",
      "\u001b[1;32mc:\\Users\\kevin\\OneDrive\\Documents\\VScode\\Flask\\python-refresher\\scratch.ipynb Cell 3'\u001b[0m in \u001b[0;36m<cell line: 8>\u001b[1;34m()\u001b[0m\n\u001b[0;32m      <a href='vscode-notebook-cell:/c%3A/Users/kevin/OneDrive/Documents/VScode/Flask/python-refresher/scratch.ipynb#ch0000009?line=5'>6</a>\u001b[0m   x\u001b[39m.\u001b[39mremove_duplicates()\n\u001b[0;32m      <a href='vscode-notebook-cell:/c%3A/Users/kevin/OneDrive/Documents/VScode/Flask/python-refresher/scratch.ipynb#ch0000009?line=6'>7</a>\u001b[0m   x\u001b[39m.\u001b[39mprint_list()\n\u001b[1;32m----> <a href='vscode-notebook-cell:/c%3A/Users/kevin/OneDrive/Documents/VScode/Flask/python-refresher/scratch.ipynb#ch0000009?line=7'>8</a>\u001b[0m test(lst)\n",
      "\u001b[1;32mc:\\Users\\kevin\\OneDrive\\Documents\\VScode\\Flask\\python-refresher\\scratch.ipynb Cell 3'\u001b[0m in \u001b[0;36mtest\u001b[1;34m(x)\u001b[0m\n\u001b[0;32m      <a href='vscode-notebook-cell:/c%3A/Users/kevin/OneDrive/Documents/VScode/Flask/python-refresher/scratch.ipynb#ch0000009?line=3'>4</a>\u001b[0m \u001b[39mdef\u001b[39;00m \u001b[39mtest\u001b[39m(x):\n\u001b[0;32m      <a href='vscode-notebook-cell:/c%3A/Users/kevin/OneDrive/Documents/VScode/Flask/python-refresher/scratch.ipynb#ch0000009?line=4'>5</a>\u001b[0m   \u001b[39m# Write your code here\u001b[39;00m\n\u001b[1;32m----> <a href='vscode-notebook-cell:/c%3A/Users/kevin/OneDrive/Documents/VScode/Flask/python-refresher/scratch.ipynb#ch0000009?line=5'>6</a>\u001b[0m   x\u001b[39m.\u001b[39;49mremove_duplicates()\n\u001b[0;32m      <a href='vscode-notebook-cell:/c%3A/Users/kevin/OneDrive/Documents/VScode/Flask/python-refresher/scratch.ipynb#ch0000009?line=6'>7</a>\u001b[0m   x\u001b[39m.\u001b[39mprint_list()\n",
      "\u001b[1;32mc:\\Users\\kevin\\OneDrive\\Documents\\VScode\\Flask\\python-refresher\\scratch.ipynb Cell 2'\u001b[0m in \u001b[0;36mLinkedList.remove_duplicates\u001b[1;34m(self)\u001b[0m\n\u001b[0;32m     <a href='vscode-notebook-cell:/c%3A/Users/kevin/OneDrive/Documents/VScode/Flask/python-refresher/scratch.ipynb#ch0000008?line=9'>10</a>\u001b[0m right \u001b[39m=\u001b[39m \u001b[39mself\u001b[39m\u001b[39m.\u001b[39mget_head()\n\u001b[0;32m     <a href='vscode-notebook-cell:/c%3A/Users/kevin/OneDrive/Documents/VScode/Flask/python-refresher/scratch.ipynb#ch0000008?line=10'>11</a>\u001b[0m hmap \u001b[39m=\u001b[39m {}\n\u001b[1;32m---> <a href='vscode-notebook-cell:/c%3A/Users/kevin/OneDrive/Documents/VScode/Flask/python-refresher/scratch.ipynb#ch0000008?line=12'>13</a>\u001b[0m \u001b[39mwhile\u001b[39;00m right \u001b[39m!=\u001b[39;49m \u001b[39mNone\u001b[39;49;00m:\n\u001b[0;32m     <a href='vscode-notebook-cell:/c%3A/Users/kevin/OneDrive/Documents/VScode/Flask/python-refresher/scratch.ipynb#ch0000008?line=13'>14</a>\u001b[0m     \u001b[39mif\u001b[39;00m right\u001b[39m.\u001b[39mdata \u001b[39min\u001b[39;00m hmap:\n\u001b[0;32m     <a href='vscode-notebook-cell:/c%3A/Users/kevin/OneDrive/Documents/VScode/Flask/python-refresher/scratch.ipynb#ch0000008?line=14'>15</a>\u001b[0m         \u001b[39m#garbage = right\u001b[39;00m\n\u001b[0;32m     <a href='vscode-notebook-cell:/c%3A/Users/kevin/OneDrive/Documents/VScode/Flask/python-refresher/scratch.ipynb#ch0000008?line=15'>16</a>\u001b[0m         right \u001b[39m=\u001b[39m right\u001b[39m.\u001b[39mnext_element\n",
      "\u001b[1;31mKeyboardInterrupt\u001b[0m: "
     ]
    }
   ],
   "source": [
    "lst = LinkedList()\n",
    "lst.insert_at_head(1)\n",
    "lst.insert_at_head(2)\n",
    "def test(x):\n",
    "  # Write your code here\n",
    "  x.remove_duplicates()\n",
    "  x.print_list()\n",
    "test(lst)\n"
   ]
  },
  {
   "cell_type": "code",
   "execution_count": 14,
   "metadata": {},
   "outputs": [
    {
     "name": "stdout",
     "output_type": "stream",
     "text": [
      "True\n"
     ]
    }
   ],
   "source": [
    "s=\"abc\" \n",
    "print(s[2] == \"c\")\n"
   ]
  },
  {
   "cell_type": "code",
   "execution_count": null,
   "metadata": {},
   "outputs": [],
   "source": [
    "class Solution(object):\n",
    "    def romanToInt(self, s):\n",
    "        '''\n",
    "        roman = {'I': 1, 'V': 5, 'X': 10, 'L': 50, 'C': 100, 'D': 500, 'M': 1000}\n",
    "        sum = 0\n",
    "        check = True\n",
    "        i = 0\n",
    "\n",
    "        while i < len(s) - 1:\n",
    "            if roman[s[i]] < roman[s[i+1]]:\n",
    "                sum += (roman[s[i+1]] - roman[s[i]])\n",
    "                i += 2\n",
    "                check = False\n",
    "            else:\n",
    "                sum += roman[s[i]]\n",
    "                i += 1\n",
    "                check = True\n",
    "        print(check or i == len(s)-1)\n",
    "        print((i != 1 or i != len(s)))\n",
    "        if (check or i == len(s)-1) and (i != 1 or i != len(s)):\n",
    "            sum += roman[s[i]]\n",
    "        return sum\n",
    "        '''\n",
    "        roman = {'I': 1, 'V': 5, 'X': 10, 'L': 50, 'C': 100, 'D': 500, 'M': 1000}\n",
    "        i = 0\n",
    "        num = 0\n",
    "        \n",
    "        while i < len(s):\n",
    "            if (i + 1 < len(s)) and s[i:i+2] in roman:\n",
    "                num += roman[s[i:i+2]]\n",
    "                i += 2\n",
    "            else:\n",
    "                num += roman[s[i]]\n",
    "                i += 1\n",
    "            \n",
    "        return num\n",
    "\n",
    "if __name__ == \"__main__\":\n",
    "    # 1000 -> 900 -> \n",
    "    test = Solution().romanToInt(\"III\")\n",
    "    print(test)\n",
    "    "
   ]
  },
  {
   "cell_type": "code",
   "execution_count": 45,
   "metadata": {},
   "outputs": [
    {
     "name": "stdout",
     "output_type": "stream",
     "text": [
      "[1, 2, 3, 4, 5, 6, 7, 8, 9, 10, 81, 91]\n",
      "[(1, 9), (2, 10), (3, 81), (4, 91)]\n",
      "8\n",
      "8\n"
     ]
    }
   ],
   "source": [
    "import heapq\n",
    "A = [1,2,3,4,5,6,7,8,9,10,81,91]\n",
    "A.sort()\n",
    "print(A)\n",
    "print(list(zip(A[:4], A[-4:])))\n",
    "print(min(b - a for a, b in zip(A[:4], A[-4:])))\n",
    "print(min(a - b for a,b in zip(heapq.nlargest(4, A), heapq.nsmallest(4, A)[::-1])))\n"
   ]
  },
  {
   "cell_type": "code",
   "execution_count": 5,
   "metadata": {},
   "outputs": [
    {
     "name": "stdout",
     "output_type": "stream",
     "text": [
      "{'Green': 'Go', 'Yellow': 'Wait'}\n",
      "('Red', 'Stop')\n"
     ]
    }
   ],
   "source": [
    "\n",
    "\n",
    "traffic_light = {\"Green\": \"Go\", \"Yellow\": \"Wait\", \"Red\": \"Stop\"}\n",
    "entry = traffic_light.popitem()\n",
    "\n",
    "print(traffic_light)\n",
    "\n",
    "print(entry)"
   ]
  }
 ],
 "metadata": {
  "interpreter": {
   "hash": "b89b5cfaba6639976dc87ff2fec6d58faec662063367e2c229c520fe71072417"
  },
  "kernelspec": {
   "display_name": "Python 3.10.0 64-bit",
   "language": "python",
   "name": "python3"
  },
  "language_info": {
   "codemirror_mode": {
    "name": "ipython",
    "version": 3
   },
   "file_extension": ".py",
   "mimetype": "text/x-python",
   "name": "python",
   "nbconvert_exporter": "python",
   "pygments_lexer": "ipython3",
   "version": "3.10.0"
  },
  "orig_nbformat": 4
 },
 "nbformat": 4,
 "nbformat_minor": 2
}
